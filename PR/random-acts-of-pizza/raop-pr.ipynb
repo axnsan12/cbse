{
 "cells": [
  {
   "cell_type": "code",
   "execution_count": 1,
   "metadata": {},
   "outputs": [
    {
     "name": "stdout",
     "output_type": "stream",
     "text": [
      "Input datasets: train(N=1590) and validation(N=398)\n",
      "Test dataset: N=1631\n"
     ]
    }
   ],
   "source": [
    "# read input data\n",
    "\n",
    "from sklearn.model_selection import train_test_split\n",
    "import json\n",
    "import pandas as pd\n",
    "\n",
    "with open('train.json') as f:\n",
    "    trainjson = json.load(f)\n",
    "\n",
    "df_train = pd.io.json.json_normalize(trainjson)\n",
    "\n",
    "# rebalance by under-sampling failures\n",
    "df_received = df_train[df_train['requester_received_pizza'] == True]\n",
    "df_not_received = df_train[df_train['requester_received_pizza'] == False]\n",
    "df_not_received = df_not_received.sample(len(df_received))\n",
    "df_train = pd.concat([df_not_received, df_received], axis=0)\n",
    "\n",
    "df_train, df_valid = train_test_split(df_train, test_size=0.2)\n",
    "print(f'Input datasets: train(N={len(df_train)}) and validation(N={len(df_valid)})')\n",
    "\n",
    "with open('test.json') as f:\n",
    "    testjson = json.load(f)\n",
    "\n",
    "df_test = pd.io.json.json_normalize(testjson)\n",
    "\n",
    "print(f'Test dataset: N={len(df_test)}')"
   ]
  },
  {
   "cell_type": "code",
   "execution_count": 17,
   "metadata": {},
   "outputs": [
    {
     "name": "stdout",
     "output_type": "stream",
     "text": [
      "Analyzing traning set...\n",
      "From N=1590 redditors, 789 got a random act of pizza. That's 49.62%!\n",
      "Analyzing validation set...\n",
      "From N=398 redditors, 205 got a random act of pizza. That's 51.51%!\n"
     ]
    },
    {
     "data": {
      "image/png": "[encoded data removed]",
      "text/plain": [
       "<Figure size 432x288 with 1 Axes>"
      ]
     },
     "metadata": {},
     "output_type": "display_data"
    }
   ],
   "source": [
    "# print some stats...\n",
    "import matplotlib as mpl\n",
    "mpl.rcParams['figure.facecolor'] = 'white'\n",
    "\n",
    "def count_acts_of_pizza(predictions):\n",
    "    received = sum(predictions)\n",
    "    success_rate = received / len(predictions) * 100\n",
    "    print(f\"From N={len(predictions)} redditors, {received} got a random act of pizza. That's {success_rate:.2f}%!\")\n",
    "\n",
    "print('Analyzing traning set...')\n",
    "count_acts_of_pizza(df_train['requester_received_pizza'])\n",
    "print('Analyzing validation set...')\n",
    "count_acts_of_pizza(df_valid['requester_received_pizza'])\n",
    "\n",
    "\n",
    "numeric_columns = [\n",
    "    'requester_account_age_in_days_at_request',\n",
    "]\n",
    "\n",
    "for col in numeric_columns:\n",
    "    df_train.boxplot(column=[col], by='requester_received_pizza', patch_artist=True)"
   ]
  },
  {
   "cell_type": "code",
   "execution_count": 3,
   "metadata": {},
   "outputs": [
    {
     "name": "stderr",
     "output_type": "stream",
     "text": [
      "[nltk_data] Downloading package stopwords to\n",
      "[nltk_data]     C:\\Users\\axnsan\\AppData\\Roaming\\nltk_data...\n",
      "[nltk_data]   Package stopwords is already up-to-date!\n",
      "[nltk_data] Downloading package punkt to\n",
      "[nltk_data]     C:\\Users\\axnsan\\AppData\\Roaming\\nltk_data...\n",
      "[nltk_data]   Package punkt is already up-to-date!\n",
      "[nltk_data] Downloading package wordnet to\n",
      "[nltk_data]     C:\\Users\\axnsan\\AppData\\Roaming\\nltk_data...\n",
      "[nltk_data]   Package wordnet is already up-to-date!\n"
     ]
    },
    {
     "data": {
      "text/plain": [
       "True"
      ]
     },
     "execution_count": 3,
     "metadata": {},
     "output_type": "execute_result"
    }
   ],
   "source": [
    "# download nltk datasets\n",
    "\n",
    "import nltk\n",
    "\n",
    "nltk.download('stopwords')\n",
    "nltk.download('punkt')\n",
    "nltk.download('wordnet')"
   ]
  },
  {
   "cell_type": "code",
   "execution_count": 4,
   "metadata": {},
   "outputs": [
    {
     "name": "stdout",
     "output_type": "stream",
     "text": [
      "Collected 662 stopwords\n"
     ]
    }
   ],
   "source": [
    "# stopwords to eliminate from the request body and text\n",
    "\n",
    "from nltk.corpus import stopwords\n",
    "\n",
    "import requests\n",
    "import json\n",
    "import string\n",
    "\n",
    "stopwords_en = set(stopwords.words('english'))\n",
    "\n",
    "stopwords_json_en = requests.get('https://raw.githubusercontent.com/6/stopwords-json/master/dist/en.json').json()\n",
    "stopwords_json_en = set(stopwords_json_en)\n",
    "\n",
    "stopwords_additional = {'...'}\n",
    "stopwords_inconsistent = {\"'d\", \"'ll\", \"'m\", \"'re\", \"'s\", \"'ve\", '``', 'ai', 'ca', 'change', 'doe', 'give', 'greeting', 'ha', 'le', \"n't\", 'regard', 'sha', 'wa', 'wo'}\n",
    "\n",
    "stopwords_all = set.union(\n",
    "    stopwords_en, \n",
    "    stopwords_json_en, \n",
    "    set(string.punctuation), \n",
    "    set(string.digits), \n",
    "    stopwords_additional, \n",
    "    stopwords_inconsistent\n",
    ")\n",
    "\n",
    "print(f'Collected {len(stopwords_all)} stopwords')"
   ]
  },
  {
   "cell_type": "code",
   "execution_count": 42,
   "metadata": {},
   "outputs": [],
   "source": [
    "# extract features from text (request title and body) via pseudo-nlp\n",
    "\n",
    "from sklearn.feature_extraction.text import CountVectorizer\n",
    "from sklearn.decomposition import LatentDirichletAllocation\n",
    "from nltk import word_tokenize\n",
    "from nltk.stem import WordNetLemmatizer\n",
    "import numpy as np\n",
    "\n",
    "wnl = WordNetLemmatizer()\n",
    "\n",
    "def lemma_tokenize(text):\n",
    "    return [wnl.lemmatize(t) for t in word_tokenize(text)]\n",
    "\n",
    "vectorizer = CountVectorizer(stop_words=stopwords_all, analyzer='word', tokenizer=lemma_tokenize, max_features=100)\n",
    "lda = LatentDirichletAllocation(n_components=5, learning_method=\"batch\", max_iter=30, learning_decay=.7)\n",
    "\n",
    "df_train['all_text'] = df_train['request_title'] + ' ' + df_train['request_text_edit_aware']\n",
    "df_valid['all_text'] = df_valid['request_title'] + ' ' + df_valid['request_text_edit_aware']\n",
    "df_test['all_text'] = df_test['request_title'] + ' ' + df_test['request_text_edit_aware']\n",
    "\n",
    "def extract_text_features(df, fit=False):\n",
    "    is_beggar = np.array([int(age < 3.0) for age in df['requester_account_age_in_days_at_request']])\n",
    "    previous_activity = []\n",
    "    for user in df.itertuples(index=False):\n",
    "        prev_raop_comments = user.requester_number_of_comments_in_raop_at_request\n",
    "        prev_requests = user.requester_number_of_posts_on_raop_at_request\n",
    "        previous_activity.append((int(prev_requests > 0), int(prev_raop_comments > 0)))\n",
    "    \n",
    "    transform_func = 'fit_transform' if fit else 'transform'\n",
    "    vec_transform = getattr(vectorizer, transform_func)\n",
    "    lda_transform = getattr(lda, transform_func)\n",
    "\n",
    "#     title_vector = vec_transform(df['request_title'])\n",
    "#     title_topics = lda_transform(title_vector)\n",
    "#     title_lens = df['request_title'].apply(len).values\n",
    "#     body_vector = vec_transform(df['request_text_edit_aware'])\n",
    "#     body_topics = lda_transform(body_vector)\n",
    "#     body_lens = df['request_text_edit_aware'].apply(len).values\n",
    "#     return np.column_stack((title_vector.toarray(), title_topics, title_lens, body_vector.toarray(), body_topics, body_lens))\n",
    "    count_vector = vec_transform(df['all_text'])\n",
    "    topics = lda_transform(count_vector)\n",
    "    text_len = df['all_text'].apply(len).values\n",
    "    return np.column_stack((count_vector.toarray(), topics, text_len))"
   ]
  },
  {
   "cell_type": "code",
   "execution_count": 31,
   "metadata": {},
   "outputs": [],
   "source": [
    "def extract_meta_features(df):\n",
    "    # assume America/Chicago timezone because most reddit users are from US\n",
    "    df['datetime'] = pd.to_datetime(df.unix_timestamp_of_request_utc, unit='s').dt.tz_localize('UTC').dt.tz_convert('America/Chicago')\n",
    "    df['day'] = df.datetime.dt.dayofweek\n",
    "    df['dayofmonth'] = df.datetime.dt.day\n",
    "    df['hour'] = df.datetime.dt.hour\n",
    "    df['month'] = df.datetime.dt.month\n",
    "    \n",
    "    return df[numeric_columns + ['day', 'dayofmonth', 'hour', 'month']].values\n",
    "    "
   ]
  },
  {
   "cell_type": "code",
   "execution_count": 43,
   "metadata": {},
   "outputs": [
    {
     "name": "stdout",
     "output_type": "stream",
     "text": [
      "(1590, 106) (1590, 5)\n",
      "(398, 106) (398, 5)\n",
      "(1631, 106) (1631, 5)\n",
      "\n",
      "Topics in LDA model:\n",
      "Topic #0: job day work month food time year week back money home ago\n",
      "Topic #1: food account week card broke ramen bank return moved im favor friend\n",
      "Topic #2: love night tonight friend make family kid dinner time work tomorrow reddit\n",
      "Topic #3: student money broke college hungry day love home food make today\n",
      "Topic #4: pay paid forward week friday money paycheck food rent check bill work\n",
      "\n"
     ]
    }
   ],
   "source": [
    "def extract_features(df, fit=False):\n",
    "    text_features = extract_text_features(df, fit=fit)\n",
    "    meta_features = extract_meta_features(df)\n",
    "    print(text_features.shape, meta_features.shape)\n",
    "    return np.column_stack([text_features, meta_features])\n",
    "\n",
    "\n",
    "train_features = extract_features(df_train, fit=True)\n",
    "train_tags = df_train['requester_received_pizza']\n",
    "\n",
    "validation_features = extract_features(df_valid)\n",
    "validation_tags = df_valid['requester_received_pizza']\n",
    "\n",
    "test_features = extract_features(df_test)\n",
    "\n",
    "print(\"\\nTopics in LDA model:\")\n",
    "feature_names = vectorizer.get_feature_names()\n",
    "for topic_idx, topic in enumerate(lda.components_):\n",
    "    message = \"Topic #%d: \" % topic_idx\n",
    "    words = [feature_names[i] for i in topic.argsort()[:-15:-1]]\n",
    "    words = [w for w in words if w not in ('request', 'pizza', 'http')]\n",
    "    message += \" \".join(words)\n",
    "    print(message)\n",
    "print()"
   ]
  },
  {
   "cell_type": "code",
   "execution_count": 41,
   "metadata": {},
   "outputs": [
    {
     "name": "stderr",
     "output_type": "stream",
     "text": [
      "[Parallel(n_jobs=3)]: Using backend LokyBackend with 3 concurrent workers.\n"
     ]
    },
    {
     "name": "stdout",
     "output_type": "stream",
     "text": [
      "Classifying data with LogisticRegressionCV(Cs=10, class_weight=None, cv=10, dual=False,\n",
      "           fit_intercept=True, intercept_scaling=1.0, max_iter=4000,\n",
      "           multi_class='warn', n_jobs=3, penalty='l2', random_state=None,\n",
      "           refit=True, scoring='roc_auc', solver='lbfgs', tol=0.0001,\n",
      "           verbose=1)...\n",
      "\n",
      "Training set reality:\n",
      "From N=1590 redditors, 789 got a random act of pizza. That's 49.62%!\n",
      "Training set predictions: (accuracy 62.53%)\n",
      "From N=1590 redditors, 682 got a random act of pizza. That's 42.89%!\n",
      "[[555 246]\n",
      " [353 436]]\n",
      "\n",
      "Validation reality:\n",
      "From N=398 redditors, 205 got a random act of pizza. That's 51.51%!\n",
      "Validation predictions: (accuracy 54.56%)\n",
      "From N=398 redditors, 156 got a random act of pizza. That's 39.20%!\n",
      "[[126  67]\n",
      " [116  89]]\n",
      "\n",
      "Test predictions: \n",
      "From N=1631 redditors, 624 got a random act of pizza. That's 38.26%!\n"
     ]
    },
    {
     "name": "stderr",
     "output_type": "stream",
     "text": [
      "[Parallel(n_jobs=3)]: Done  10 out of  10 | elapsed:    9.1s finished\n"
     ]
    }
   ],
   "source": [
    "from sklearn.linear_model import LogisticRegressionCV\n",
    "from sklearn.model_selection import GridSearchCV, RandomizedSearchCV\n",
    "from sklearn.metrics import balanced_accuracy_score, confusion_matrix\n",
    "from sklearn.ensemble import RandomForestClassifier\n",
    "from sklearn.neural_network import MLPClassifier\n",
    "from sklearn.naive_bayes import MultinomialNB\n",
    "\n",
    "# clf = RandomForestClassifier(n_estimators=100, min_samples_leaf=6, max_depth=5)\n",
    "\n",
    "random_grid = {\n",
    "    'bootstrap': [True, False],\n",
    "    'max_depth': [5, 10, 20, 30, 40, 70, 100, None],\n",
    "    'max_features': ['auto', 'sqrt'],\n",
    "    'min_samples_leaf': [1, 2, 4],\n",
    "    'min_samples_split': [2, 5, 10],\n",
    "    'n_estimators': [50, 100, 200, 400, 600, 800]\n",
    "}\n",
    "\n",
    "# clf = MLPClassifier()\n",
    "\n",
    "random_grid = {    \n",
    "    'activation': ['tanh', 'relu', 'logistic', 'identity'],\n",
    "    'solver': ['sgd', 'adam', 'lbfgs'],\n",
    "    'max_iter': [500, 1000, 1500, 2000], \n",
    "    'alpha': 10.0 ** -np.arange(1, 10), \n",
    "    'hidden_layer_sizes': [(100,), (10,), (50,)],\n",
    "    'learning_rate': ['constant','adaptive'],\n",
    "}\n",
    "\n",
    "# clf = RandomizedSearchCV(estimator=clf, param_distributions=random_grid, scoring='roc_auc', n_iter=50, cv=5, verbose=2, n_jobs=-1)\n",
    "\n",
    "# clf = MultinomialNB()\n",
    "\n",
    "clf = LogisticRegressionCV(cv=10, verbose=1, n_jobs=3, scoring='roc_auc', solver='lbfgs', penalty='l2', max_iter=4000)\n",
    "\n",
    "clf.fit(train_features, train_tags)\n",
    "\n",
    "print(f\"Classifying data with {clf}...\\n\")\n",
    "train_predictions = clf.predict(train_features)\n",
    "print(f'Training set reality:')\n",
    "count_acts_of_pizza(train_tags)\n",
    "print(f'Training set predictions: (accuracy {balanced_accuracy_score(train_predictions, train_tags) * 100:.2f}%)')\n",
    "count_acts_of_pizza(train_predictions)\n",
    "print(confusion_matrix(train_tags, train_predictions))\n",
    "print()\n",
    "\n",
    "validation_predictions = clf.predict(validation_features)\n",
    "print(f'Validation reality:')\n",
    "count_acts_of_pizza(validation_tags)\n",
    "print(f'Validation predictions: (accuracy {balanced_accuracy_score(validation_predictions, validation_tags) * 100:.2f}%)')\n",
    "count_acts_of_pizza(validation_predictions)\n",
    "print(confusion_matrix(validation_tags, validation_predictions))\n",
    "print()\n",
    "\n",
    "test_predictions = clf.predict(test_features)\n",
    "print(f'Test predictions: ')\n",
    "count_acts_of_pizza(test_predictions)"
   ]
  },
  {
   "cell_type": "code",
   "execution_count": 34,
   "metadata": {},
   "outputs": [
    {
     "data": {
      "text/html": [
       "<div>\n",
       "<style scoped>\n",
       "    .dataframe tbody tr th:only-of-type {\n",
       "        vertical-align: middle;\n",
       "    }\n",
       "\n",
       "    .dataframe tbody tr th {\n",
       "        vertical-align: top;\n",
       "    }\n",
       "\n",
       "    .dataframe thead th {\n",
       "        text-align: right;\n",
       "    }\n",
       "</style>\n",
       "<table border=\"1\" class=\"dataframe\">\n",
       "  <thead>\n",
       "    <tr style=\"text-align: right;\">\n",
       "      <th></th>\n",
       "      <th>request_id</th>\n",
       "      <th>requester_received_pizza</th>\n",
       "    </tr>\n",
       "  </thead>\n",
       "  <tbody>\n",
       "    <tr>\n",
       "      <th>0</th>\n",
       "      <td>t3_i8iy4</td>\n",
       "      <td>0</td>\n",
       "    </tr>\n",
       "    <tr>\n",
       "      <th>1</th>\n",
       "      <td>t3_1mfqi0</td>\n",
       "      <td>1</td>\n",
       "    </tr>\n",
       "    <tr>\n",
       "      <th>2</th>\n",
       "      <td>t3_lclka</td>\n",
       "      <td>0</td>\n",
       "    </tr>\n",
       "    <tr>\n",
       "      <th>3</th>\n",
       "      <td>t3_1jdgdj</td>\n",
       "      <td>0</td>\n",
       "    </tr>\n",
       "    <tr>\n",
       "      <th>4</th>\n",
       "      <td>t3_t2qt4</td>\n",
       "      <td>1</td>\n",
       "    </tr>\n",
       "  </tbody>\n",
       "</table>\n",
       "</div>"
      ],
      "text/plain": [
       "  request_id  requester_received_pizza\n",
       "0   t3_i8iy4                         0\n",
       "1  t3_1mfqi0                         1\n",
       "2   t3_lclka                         0\n",
       "3  t3_1jdgdj                         0\n",
       "4   t3_t2qt4                         1"
      ]
     },
     "execution_count": 34,
     "metadata": {},
     "output_type": "execute_result"
    }
   ],
   "source": [
    "df_output = pd.DataFrame({\n",
    "    'request_id': list(df_test['request_id']), \n",
    "    'requester_received_pizza': list(test_predictions)\n",
    "})\n",
    "\n",
    "df_output['requester_received_pizza'] = df_output['requester_received_pizza'].astype(int)\n",
    "df_output.to_csv('kaggle-submission.csv', index=False)\n",
    "df_output.head()"
   ]
  }
 ],
 "metadata": {
  "kernelspec": {
   "display_name": "Python 3",
   "language": "python",
   "name": "python3"
  },
  "language_info": {
   "codemirror_mode": {
    "name": "ipython",
    "version": 3
   },
   "file_extension": ".py",
   "mimetype": "text/x-python",
   "name": "python",
   "nbconvert_exporter": "python",
   "pygments_lexer": "ipython3",
   "version": "3.6.5"
  }
 },
 "nbformat": 4,
 "nbformat_minor": 2
}
